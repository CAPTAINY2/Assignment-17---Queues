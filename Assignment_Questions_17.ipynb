{
  "nbformat": 4,
  "nbformat_minor": 0,
  "metadata": {
    "colab": {
      "provenance": [],
      "authorship_tag": "ABX9TyMiyzAS8dJvDcVBrur5MvWK",
      "include_colab_link": true
    },
    "kernelspec": {
      "name": "python3",
      "display_name": "Python 3"
    },
    "language_info": {
      "name": "python"
    }
  },
  "cells": [
    {
      "cell_type": "markdown",
      "metadata": {
        "id": "view-in-github",
        "colab_type": "text"
      },
      "source": [
        "<a href=\"https://colab.research.google.com/github/CAPTAINY2/Assignment-17---Queues/blob/main/Assignment_Questions_17.ipynb\" target=\"_parent\"><img src=\"https://colab.research.google.com/assets/colab-badge.svg\" alt=\"Open In Colab\"/></a>"
      ]
    },
    {
      "cell_type": "markdown",
      "source": [
        "### QUESTION-1"
      ],
      "metadata": {
        "id": "re6lBqyO97ZG"
      }
    },
    {
      "cell_type": "code",
      "execution_count": 3,
      "metadata": {
        "colab": {
          "base_uri": "https://localhost:8080/"
        },
        "id": "IV3ljAJmog44",
        "outputId": "4e912bb7-010c-432f-9d00-a279bb5a1759"
      },
      "outputs": [
        {
          "output_type": "stream",
          "name": "stdout",
          "text": [
            "Output 1:  0\n",
            "Output 2:  2\n",
            "Output 3:  -1\n"
          ]
        }
      ],
      "source": [
        "s1 = \"leetcode\"\n",
        "s2 = \"loveleetcode\"\n",
        "s3 = \"aabb\"\n",
        "\n",
        "def char(s):\n",
        "    char_freq = {}\n",
        "\n",
        "    for char in s:\n",
        "        if char in char_freq:\n",
        "            char_freq[char] += 1\n",
        "        else:\n",
        "            char_freq[char] = 1\n",
        "\n",
        "    for i, char in enumerate(s):\n",
        "        if char_freq[char] == 1:\n",
        "            return i\n",
        "\n",
        "    return -1\n",
        "\n",
        "print(\"Output 1: \", char(s1))\n",
        "print(\"Output 2: \", char(s2))\n",
        "print(\"Output 3: \", char(s3))"
      ]
    },
    {
      "cell_type": "markdown",
      "source": [
        "### QUESTION-2"
      ],
      "metadata": {
        "id": "Ua-bkuU89_o2"
      }
    },
    {
      "cell_type": "code",
      "source": [
        "nums1 = [1, -2, 3, -2]\n",
        "nums2 = [5,-3,5]\n",
        "nums3 = [-3,-2,-3]\n",
        "\n",
        "def subarray(nums):\n",
        "    def kadane(nums):\n",
        "        max_sum = float('-inf')\n",
        "        curr_sum = 0\n",
        "        for i in nums:\n",
        "            curr_sum = max(i, curr_sum + i)\n",
        "            max_sum = max(max_sum, curr_sum)\n",
        "        return max_sum\n",
        "\n",
        "    total_sum = sum(nums)\n",
        "    max_sum1 = kadane(nums)\n",
        "    max_sum2 = total_sum + kadane([-i for i in nums])\n",
        "\n",
        "    if max_sum2 == 0:\n",
        "        return max_sum1\n",
        "    return max(max_sum1, max_sum2)\n",
        "\n",
        "print(\"Output 1: \", subarray(nums1))\n",
        "print(\"Output 2: \", subarray(nums2))\n",
        "print(\"Output 3: \", subarray(nums3))"
      ],
      "metadata": {
        "colab": {
          "base_uri": "https://localhost:8080/"
        },
        "id": "6CqODjbzvs7L",
        "outputId": "4b7ec905-4c54-4b57-97f2-fb4da1477c64"
      },
      "execution_count": 6,
      "outputs": [
        {
          "output_type": "stream",
          "name": "stdout",
          "text": [
            "Output 1:  3\n",
            "Output 2:  10\n",
            "Output 3:  -2\n"
          ]
        }
      ]
    },
    {
      "cell_type": "markdown",
      "source": [
        "### QUESTION-3"
      ],
      "metadata": {
        "id": "pvnwocKp-Bhd"
      }
    },
    {
      "cell_type": "code",
      "source": [
        "from collections import deque\n",
        "\n",
        "students1 = [1, 1, 0, 0]\n",
        "sandwiches1 = [0, 1, 0, 1]\n",
        "students2 = [1,1,1,0,0,1]\n",
        "sandwiches2 = [1,0,0,0,1,1]\n",
        "\n",
        "def count(students, sandwiches):\n",
        "    student_queue = deque(students)\n",
        "    sandwich_stack = deque(sandwiches)\n",
        "\n",
        "    consecutive_failures = 0\n",
        "    while student_queue and sandwich_stack and consecutive_failures < len(student_queue):\n",
        "        if student_queue[0] == sandwich_stack[0]:\n",
        "            student_queue.popleft()\n",
        "            sandwich_stack.popleft()\n",
        "            consecutive_failures = 0\n",
        "        else:\n",
        "            student_queue.append(student_queue.popleft())\n",
        "            consecutive_failures += 1\n",
        "\n",
        "    return len(student_queue)\n",
        "\n",
        "print(\"Output 1: \", count(students1, sandwiches1))\n",
        "print(\"Output 2: \", count(students2, sandwiches2))"
      ],
      "metadata": {
        "colab": {
          "base_uri": "https://localhost:8080/"
        },
        "id": "ZAXypM150xqy",
        "outputId": "2ce62242-44b9-4fe7-e0c2-f651e797def6"
      },
      "execution_count": 10,
      "outputs": [
        {
          "output_type": "stream",
          "name": "stdout",
          "text": [
            "Output 1:  0\n",
            "Output 2:  3\n"
          ]
        }
      ]
    },
    {
      "cell_type": "markdown",
      "source": [
        "### QUESTION-4"
      ],
      "metadata": {
        "id": "KTV-v1FJ-DQv"
      }
    },
    {
      "cell_type": "code",
      "source": [
        "from collections import deque\n",
        "\n",
        "class RecentCounter:\n",
        "    def __init__(self):\n",
        "        self.requests = deque()\n",
        "\n",
        "    def ping(self, t: int) -> int:\n",
        "        self.requests.append(t)\n",
        "        while self.requests[0] < t - 3000:\n",
        "            self.requests.popleft()\n",
        "        return len(self.requests)\n",
        "\n",
        "# Test the class\n",
        "recentCounter = RecentCounter()\n",
        "print(recentCounter.ping(1))    # Output: 1\n",
        "print(recentCounter.ping(100))  # Output: 2\n",
        "print(recentCounter.ping(3001)) # Output: 3\n",
        "print(recentCounter.ping(3002)) # Output: 3\n"
      ],
      "metadata": {
        "colab": {
          "base_uri": "https://localhost:8080/"
        },
        "id": "3hu78DBX18N1",
        "outputId": "974a3ff1-8f88-4588-d94e-30dee23e544e"
      },
      "execution_count": 11,
      "outputs": [
        {
          "output_type": "stream",
          "name": "stdout",
          "text": [
            "1\n",
            "2\n",
            "3\n",
            "3\n"
          ]
        }
      ]
    },
    {
      "cell_type": "markdown",
      "source": [
        "### QUESTION-5"
      ],
      "metadata": {
        "id": "5iFLcOG2-E9g"
      }
    },
    {
      "cell_type": "code",
      "source": [
        "n1 = 5\n",
        "k1 = 2\n",
        "n2 = 6\n",
        "k2 = 5\n",
        "\n",
        "\n",
        "def winner(n, k):\n",
        "    friends = list(range(1, n + 1))\n",
        "    current = 0\n",
        "\n",
        "    while len(friends) > 1:\n",
        "        current = (current + k - 1) % len(friends)\n",
        "\n",
        "        friends.pop(current)\n",
        "\n",
        "    return friends[0]\n",
        "\n",
        "print(\"Output 1: \", winner(n1, k1))\n",
        "print(\"Output 2: \", winner(n2, k2))"
      ],
      "metadata": {
        "colab": {
          "base_uri": "https://localhost:8080/"
        },
        "id": "dIST2cmS33Qq",
        "outputId": "1fc52eb2-cd8b-401a-d971-c8fefa4be26c"
      },
      "execution_count": 14,
      "outputs": [
        {
          "output_type": "stream",
          "name": "stdout",
          "text": [
            "Output 1:  3\n",
            "Output 2:  1\n"
          ]
        }
      ]
    },
    {
      "cell_type": "markdown",
      "source": [
        "### QUESTION-6"
      ],
      "metadata": {
        "id": "GebuJxp6-Gks"
      }
    },
    {
      "cell_type": "code",
      "source": [
        "import collections\n",
        "\n",
        "deck1 = [17, 13, 11, 2, 3, 5, 7]\n",
        "deck2 = [1,1000]\n",
        "\n",
        "def increase(deck):\n",
        "    n = len(deck)\n",
        "    deck.sort(reverse=True)\n",
        "    result = collections.deque()\n",
        "    result.appendleft(deck[0])\n",
        "\n",
        "    for i in range(1, n):\n",
        "        result.appendleft(result.pop())\n",
        "        result.appendleft(deck[i])\n",
        "\n",
        "    return list(result)\n",
        "\n",
        "print(\"Output 1: \", increase(deck1))\n",
        "print(\"Output 2: \", increase(deck2))\n"
      ],
      "metadata": {
        "colab": {
          "base_uri": "https://localhost:8080/"
        },
        "id": "zWvq-Zpk4QrA",
        "outputId": "ffd24849-1bd5-4cb6-f4c6-2e5af26298db"
      },
      "execution_count": 17,
      "outputs": [
        {
          "output_type": "stream",
          "name": "stdout",
          "text": [
            "Output 1:  [2, 13, 3, 11, 5, 17, 7]\n",
            "Output 2:  [1, 1000]\n"
          ]
        }
      ]
    },
    {
      "cell_type": "markdown",
      "source": [
        "### QUESTION-7"
      ],
      "metadata": {
        "id": "doReDKz8-ICV"
      }
    },
    {
      "cell_type": "code",
      "source": [
        "from collections import deque\n",
        "\n",
        "class backqueue:\n",
        "    def __init__(self):\n",
        "        self.front = deque()\n",
        "        self.back = deque()\n",
        "\n",
        "    def pushFront(self, val: int) -> None:\n",
        "        self.front.appendleft(val)\n",
        "        self._balance()\n",
        "\n",
        "    def pushMiddle(self, val: int) -> None:\n",
        "        if len(self.front) > len(self.back):\n",
        "            self.back.appendleft(self.front.pop())\n",
        "        self.front.append(val)\n",
        "\n",
        "    def pushBack(self, val: int) -> None:\n",
        "        self.back.append(val)\n",
        "        self._balance()\n",
        "\n",
        "    def popFront(self) -> int:\n",
        "        if self.front:\n",
        "            return self.front.popleft()\n",
        "        elif self.back:\n",
        "            return self.back.popleft()\n",
        "        else:\n",
        "            return -1\n",
        "\n",
        "    def popMiddle(self) -> int:\n",
        "        if len(self.front) == len(self.back):\n",
        "            return self.front.pop()\n",
        "        else:\n",
        "            return self.back.popleft()\n",
        "\n",
        "    def popBack(self) -> int:\n",
        "        if self.back:\n",
        "            return self.back.pop()\n",
        "        elif self.front:\n",
        "            return self.front.pop()\n",
        "        else:\n",
        "            return -1\n",
        "\n",
        "    def _balance(self) -> None:\n",
        "        if len(self.front) > len(self.back) + 1:\n",
        "            self.back.appendleft(self.front.pop())\n",
        "        elif len(self.front) < len(self.back):\n",
        "            self.front.append(self.back.popleft())\n",
        "q = backqueue()\n",
        "q.pushFront(1)\n",
        "q.pushBack(2)\n",
        "q.pushMiddle(3)\n",
        "q.pushMiddle(4)\n",
        "print(q.popFront())\n",
        "print(q.popMiddle())\n",
        "print(q.popMiddle())\n",
        "print(q.popBack())\n",
        "print(q.popFront())\n"
      ],
      "metadata": {
        "colab": {
          "base_uri": "https://localhost:8080/"
        },
        "id": "o_9rLjJj8-Yj",
        "outputId": "4e4bafc3-d635-4e28-c1a0-5bbac30a29b1"
      },
      "execution_count": 24,
      "outputs": [
        {
          "output_type": "stream",
          "name": "stdout",
          "text": [
            "1\n",
            "3\n",
            "4\n",
            "2\n",
            "-1\n"
          ]
        }
      ]
    },
    {
      "cell_type": "markdown",
      "source": [
        "### QUESTION-8"
      ],
      "metadata": {
        "id": "0SiDhj0v-KLF"
      }
    },
    {
      "cell_type": "code",
      "source": [
        "class DataStream:\n",
        "    def __init__(self, value: int, k: int):\n",
        "        self.value = value\n",
        "        self.k = k\n",
        "        self.stream = [None] * k\n",
        "        self.pointer = 0\n",
        "\n",
        "    def consec(self, num: int) -> bool:\n",
        "        self.stream[self.pointer] = num\n",
        "        self.pointer = (self.pointer + 1) % self.k\n",
        "        if self.stream.count(self.value) == self.k:\n",
        "            return True\n",
        "        return False\n",
        "dataStream = DataStream(4, 3)\n",
        "print(dataStream.consec(4))\n",
        "print(dataStream.consec(4))\n",
        "print(dataStream.consec(4))\n",
        "print(dataStream.consec(3))\n"
      ],
      "metadata": {
        "colab": {
          "base_uri": "https://localhost:8080/"
        },
        "id": "jEJVMFzp9Gzz",
        "outputId": "b78a5e04-9ab4-46a1-f335-ca66038fbff9"
      },
      "execution_count": 25,
      "outputs": [
        {
          "output_type": "stream",
          "name": "stdout",
          "text": [
            "False\n",
            "False\n",
            "True\n",
            "False\n"
          ]
        }
      ]
    },
    {
      "cell_type": "code",
      "source": [],
      "metadata": {
        "id": "KOQion9o9xGz"
      },
      "execution_count": null,
      "outputs": []
    }
  ]
}